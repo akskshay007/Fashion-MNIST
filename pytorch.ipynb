{
 "cells": [
  {
   "cell_type": "markdown",
   "id": "9384450b",
   "metadata": {
    "papermill": {
     "duration": 0.018526,
     "end_time": "2022-06-03T15:25:18.864972",
     "exception": false,
     "start_time": "2022-06-03T15:25:18.846446",
     "status": "completed"
    },
    "tags": []
   },
   "source": [
    "### Fashion-MNIST Baseline Model\n",
    "#### This notebook is my learning based on the wonderful course from DeepLzard: [PyTorch - Python Deep Learning Neural Network API](https://deeplizard.com/learn/playlist/PLZbbT5o_s2xrfNyHZsM6ufI0iZENK9xgG). In this notebook, I have built a baseline multiclass-classification model from scratch for the Fashion-MNIST dataset. ####"
   ]
  },
  {
   "cell_type": "code",
   "execution_count": 1,
   "id": "5787d7a0",
   "metadata": {
    "_cell_guid": "b1076dfc-b9ad-4769-8c92-a6c4dae69d19",
    "_uuid": "8f2839f25d086af736a60e9eeb907d3b93b6e0e5",
    "execution": {
     "iopub.execute_input": "2022-06-03T15:25:18.904699Z",
     "iopub.status.busy": "2022-06-03T15:25:18.903611Z",
     "iopub.status.idle": "2022-06-03T15:25:18.912635Z",
     "shell.execute_reply": "2022-06-03T15:25:18.913088Z",
     "shell.execute_reply.started": "2022-06-03T12:31:06.521360Z"
    },
    "papermill": {
     "duration": 0.029675,
     "end_time": "2022-06-03T15:25:18.913357",
     "exception": false,
     "start_time": "2022-06-03T15:25:18.883682",
     "status": "completed"
    },
    "tags": []
   },
   "outputs": [],
   "source": [
    "# This Python 3 environment comes with many helpful analytics libraries installed\n",
    "# It is defined by the kaggle/python Docker image: https://github.com/kaggle/docker-python\n",
    "# For example, here's several helpful packages to load\n",
    "\n",
    "import numpy as np # linear algebra\n",
    "import pandas as pd # data processing, CSV file I/O (e.g. pd.read_csv)\n",
    "\n",
    "# Input data files are available in the read-only \"../input/\" directory\n",
    "# For example, running this (by clicking run or pressing Shift+Enter) will list all files under the input directory\n",
    "\n",
    "import os\n",
    "for dirname, _, filenames in os.walk('/kaggle/input'):\n",
    "    for filename in filenames:\n",
    "        print(os.path.join(dirname, filename))\n",
    "\n",
    "# You can write up to 20GB to the current directory (/kaggle/working/) that gets preserved as output when you create a version using \"Save & Run All\" \n",
    "# You can also write temporary files to /kaggle/temp/, but they won't be saved outside of the current session"
   ]
  },
  {
   "cell_type": "markdown",
   "id": "3b8e29fa",
   "metadata": {
    "papermill": {
     "duration": 0.016966,
     "end_time": "2022-06-03T15:25:18.947683",
     "exception": false,
     "start_time": "2022-06-03T15:25:18.930717",
     "status": "completed"
    },
    "tags": []
   },
   "source": [
    "#### Below we are importing all the imortant modules and libraries that will be used throughout this notebook."
   ]
  },
  {
   "cell_type": "code",
   "execution_count": 2,
   "id": "130d1a5f",
   "metadata": {
    "execution": {
     "iopub.execute_input": "2022-06-03T15:25:18.984526Z",
     "iopub.status.busy": "2022-06-03T15:25:18.983960Z",
     "iopub.status.idle": "2022-06-03T15:25:20.448547Z",
     "shell.execute_reply": "2022-06-03T15:25:20.449150Z",
     "shell.execute_reply.started": "2022-06-03T12:07:49.567796Z"
    },
    "papermill": {
     "duration": 1.484651,
     "end_time": "2022-06-03T15:25:20.449315",
     "exception": false,
     "start_time": "2022-06-03T15:25:18.964664",
     "status": "completed"
    },
    "tags": []
   },
   "outputs": [],
   "source": [
    "#Pytorch-based imports\n",
    "import torch\n",
    "import imageio\n",
    "import torchvision\n",
    "import torchvision.transforms as transforms\n",
    "import matplotlib.pyplot as plt\n",
    "import torch.nn as nn\n",
    "import torch.nn.functional as F\n",
    "import torch.optim as optim\n",
    "\n",
    "#Python-specific imports\n",
    "from itertools import product\n",
    "from collections import namedtuple\n",
    "from collections import OrderedDict\n",
    "from IPython.display import display, clear_output\n",
    "import time\n",
    "import json"
   ]
  },
  {
   "cell_type": "markdown",
   "id": "9cee9fdf",
   "metadata": {
    "papermill": {
     "duration": 0.016927,
     "end_time": "2022-06-03T15:25:20.483574",
     "exception": false,
     "start_time": "2022-06-03T15:25:20.466647",
     "status": "completed"
    },
    "tags": []
   },
   "source": [
    "##### We have used PyTorch version '1.7.1+cpu'. I have not used GPU as it was not required."
   ]
  },
  {
   "cell_type": "code",
   "execution_count": 3,
   "id": "3952f821",
   "metadata": {
    "execution": {
     "iopub.execute_input": "2022-06-03T15:25:20.523255Z",
     "iopub.status.busy": "2022-06-03T15:25:20.522638Z",
     "iopub.status.idle": "2022-06-03T15:25:20.529632Z",
     "shell.execute_reply": "2022-06-03T15:25:20.529190Z",
     "shell.execute_reply.started": "2022-06-02T15:37:25.109408Z"
    },
    "papermill": {
     "duration": 0.027755,
     "end_time": "2022-06-03T15:25:20.529764",
     "exception": false,
     "start_time": "2022-06-03T15:25:20.502009",
     "status": "completed"
    },
    "tags": []
   },
   "outputs": [
    {
     "data": {
      "text/plain": [
       "'1.7.1+cpu'"
      ]
     },
     "execution_count": 3,
     "metadata": {},
     "output_type": "execute_result"
    }
   ],
   "source": [
    "torch.version.__version__"
   ]
  },
  {
   "cell_type": "code",
   "execution_count": 4,
   "id": "e31ce3dd",
   "metadata": {
    "execution": {
     "iopub.execute_input": "2022-06-03T15:25:20.569956Z",
     "iopub.status.busy": "2022-06-03T15:25:20.569342Z",
     "iopub.status.idle": "2022-06-03T15:25:20.571777Z",
     "shell.execute_reply": "2022-06-03T15:25:20.571276Z",
     "shell.execute_reply.started": "2022-05-21T16:12:44.527823Z"
    },
    "papermill": {
     "duration": 0.024336,
     "end_time": "2022-06-03T15:25:20.571902",
     "exception": false,
     "start_time": "2022-06-03T15:25:20.547566",
     "status": "completed"
    },
    "tags": []
   },
   "outputs": [],
   "source": [
    "# # %load_ext tensorboard.notebook\n",
    "# # %tensorboard --logdir logs\n",
    "\n",
    "# from torch.utils.tensorboard import SummaryWriter\n",
    "# !rm -rf ./logs/ \n",
    "# !mkdir ./logs/\n",
    "# img_grey=img_t.mean(-3)\n",
    "# batch_grey=batch_t.mean(-3)\n",
    "# unsqueezed_weights = weights.unsqueeze(-1).unsqueeze_(-1)\n",
    "# weights.shape,unsqueezed_weights.shape,img_t.shape\n",
    "# img_weights=(img_t*unsqueezed_whyeights)\n",
    "# img_weights\n",
    "# unsqueezed_weights\n",
    "\n",
    "# sample=iter(train)\n",
    "# image,label=next(sample)\n",
    "# image=image.squeeze()\n",
    "# plt.figure(figsize=(4,5))\n",
    "# plt.imshow(image,cmap=\"gray\")\n",
    "# print(\"label:\",label)\n",
    "\n",
    "# display_batch=iter(train_loader)\n",
    "# batch,labels=next(display_batch)\n",
    "# batch.shape\n",
    "# grid=torchvision.utils.make_grid(batch, nrow=5)\n",
    "# grid.shape\n",
    "# plt.figure(figsize=(12,15))\n",
    "# plt.imshow(grid.permute(1,2,0))"
   ]
  },
  {
   "cell_type": "markdown",
   "id": "dc61c679",
   "metadata": {
    "papermill": {
     "duration": 0.016963,
     "end_time": "2022-06-03T15:25:20.606134",
     "exception": false,
     "start_time": "2022-06-03T15:25:20.589171",
     "status": "completed"
    },
    "tags": []
   },
   "source": [
    "### Let's talk about the data we are going to work on as it is very important to know about your data.\n",
    "\n",
    "##### The MNIST dataset, Modified National Institute of Standards and Technology database, is a famous dataset of handwritten digits that is commonly used for training image processing systems for machine learning. NIST stands for National Institute of Standards and Technology. The M in MNIST stands for modified, and this is because there was an original NIST dataset of digits that was modified to give us MNIST.\n",
    "\n",
    "##### Fashion-MNIST as the name suggests is a dataset of fashion items. Specifically, the dataset has the following ten classes of fashion items:\n",
    "\n",
    "###### Index\tLabel\n",
    "\n",
    "0.\tT-shirt/top\n",
    "1. \tTrouser\n",
    "2. \tPullover\n",
    "3.\tDress\n",
    "4.\tCoat\n",
    "5.\tSandal\n",
    "6.\tShirt\n",
    "7.\tSneaker\n",
    "8.\tBag\n",
    "9.\tAnkle boot\n",
    "\n",
    "##### The dataset consists of 70,000 images of hand written digits with the following split:\n",
    "* 60,000 training images\n",
    "* 10,000 testing images"
   ]
  },
  {
   "cell_type": "markdown",
   "id": "12a92470",
   "metadata": {
    "papermill": {
     "duration": 0.017045,
     "end_time": "2022-06-03T15:25:20.640362",
     "exception": false,
     "start_time": "2022-06-03T15:25:20.623317",
     "status": "completed"
    },
    "tags": []
   },
   "source": [
    "##### Torchvision provides many built-in datasets in the torchvision.datasets module, so we used same module to load our Fashion-MNIST dataset directly.\n",
    "* check if data is present in the specified path, if not download it.\n",
    "* load only the train part\n",
    "* transform the data to tensor form"
   ]
  },
  {
   "cell_type": "markdown",
   "id": "383581fe",
   "metadata": {
    "papermill": {
     "duration": 0.018836,
     "end_time": "2022-06-03T15:25:20.677669",
     "exception": false,
     "start_time": "2022-06-03T15:25:20.658833",
     "status": "completed"
    },
    "tags": []
   },
   "source": [
    "#### We have used standardization to normalize the dataset. We calculated the mean and standard deviation of the data first and then incorpoarted it to our pipeline to normalize the dataset."
   ]
  },
  {
   "cell_type": "code",
   "execution_count": 5,
   "id": "a20cac53",
   "metadata": {
    "execution": {
     "iopub.execute_input": "2022-06-03T15:25:20.720174Z",
     "iopub.status.busy": "2022-06-03T15:25:20.719441Z",
     "iopub.status.idle": "2022-06-03T15:25:47.617226Z",
     "shell.execute_reply": "2022-06-03T15:25:47.616674Z",
     "shell.execute_reply.started": "2022-06-03T12:08:00.346443Z"
    },
    "papermill": {
     "duration": 26.920118,
     "end_time": "2022-06-03T15:25:47.617372",
     "exception": false,
     "start_time": "2022-06-03T15:25:20.697254",
     "status": "completed"
    },
    "tags": []
   },
   "outputs": [
    {
     "name": "stdout",
     "output_type": "stream",
     "text": [
      "Downloading http://fashion-mnist.s3-website.eu-central-1.amazonaws.com/train-images-idx3-ubyte.gz to ../data/input/FashionMNIST/raw/train-images-idx3-ubyte.gz\n"
     ]
    },
    {
     "data": {
      "application/vnd.jupyter.widget-view+json": {
       "model_id": "f6d814c0544a44c1aedf88c15ecc6d15",
       "version_major": 2,
       "version_minor": 0
      },
      "text/plain": [
       "0it [00:00, ?it/s]"
      ]
     },
     "metadata": {},
     "output_type": "display_data"
    },
    {
     "name": "stdout",
     "output_type": "stream",
     "text": [
      "Extracting ../data/input/FashionMNIST/raw/train-images-idx3-ubyte.gz to ../data/input/FashionMNIST/raw\n",
      "Downloading http://fashion-mnist.s3-website.eu-central-1.amazonaws.com/train-labels-idx1-ubyte.gz to ../data/input/FashionMNIST/raw/train-labels-idx1-ubyte.gz\n"
     ]
    },
    {
     "data": {
      "application/vnd.jupyter.widget-view+json": {
       "model_id": "d11a2af17608491e802b5e7cac40f752",
       "version_major": 2,
       "version_minor": 0
      },
      "text/plain": [
       "0it [00:00, ?it/s]"
      ]
     },
     "metadata": {},
     "output_type": "display_data"
    },
    {
     "name": "stdout",
     "output_type": "stream",
     "text": [
      "Extracting ../data/input/FashionMNIST/raw/train-labels-idx1-ubyte.gz to ../data/input/FashionMNIST/raw\n",
      "Downloading http://fashion-mnist.s3-website.eu-central-1.amazonaws.com/t10k-images-idx3-ubyte.gz to ../data/input/FashionMNIST/raw/t10k-images-idx3-ubyte.gz\n"
     ]
    },
    {
     "data": {
      "application/vnd.jupyter.widget-view+json": {
       "model_id": "eb660daa00c54861bee7d17dcdc0bca6",
       "version_major": 2,
       "version_minor": 0
      },
      "text/plain": [
       "0it [00:00, ?it/s]"
      ]
     },
     "metadata": {},
     "output_type": "display_data"
    },
    {
     "name": "stdout",
     "output_type": "stream",
     "text": [
      "Extracting ../data/input/FashionMNIST/raw/t10k-images-idx3-ubyte.gz to ../data/input/FashionMNIST/raw\n",
      "Downloading http://fashion-mnist.s3-website.eu-central-1.amazonaws.com/t10k-labels-idx1-ubyte.gz to ../data/input/FashionMNIST/raw/t10k-labels-idx1-ubyte.gz\n"
     ]
    },
    {
     "data": {
      "application/vnd.jupyter.widget-view+json": {
       "model_id": "633cf1febd2143829bd31f917debc55b",
       "version_major": 2,
       "version_minor": 0
      },
      "text/plain": [
       "0it [00:00, ?it/s]"
      ]
     },
     "metadata": {},
     "output_type": "display_data"
    },
    {
     "name": "stdout",
     "output_type": "stream",
     "text": [
      "Extracting ../data/input/FashionMNIST/raw/t10k-labels-idx1-ubyte.gz to ../data/input/FashionMNIST/raw\n",
      "Processing...\n"
     ]
    },
    {
     "name": "stderr",
     "output_type": "stream",
     "text": [
      "/opt/conda/lib/python3.7/site-packages/torchvision/datasets/mnist.py:480: UserWarning: The given NumPy array is not writeable, and PyTorch does not support non-writeable tensors. This means you can write to the underlying (supposedly non-writeable) NumPy array using the tensor. You may want to copy the array to protect its data or make it writeable before converting it to a tensor. This type of warning will be suppressed for the rest of this program. (Triggered internally at  /pytorch/torch/csrc/utils/tensor_numpy.cpp:141.)\n",
      "  return torch.from_numpy(parsed.astype(m[2], copy=False)).view(*s)\n"
     ]
    },
    {
     "name": "stdout",
     "output_type": "stream",
     "text": [
      "Done!\n"
     ]
    }
   ],
   "source": [
    "train=torchvision.datasets.FashionMNIST(\n",
    "    root=\"../data/input\",\n",
    "    download=True,\n",
    "    train=True,\n",
    "    transform=transforms.Compose([transforms.ToTensor()])\n",
    ")\n",
    "\n",
    "\n",
    "#Calculate mean and standard deviation\n",
    "loader = torch.utils.data.DataLoader(train, batch_size=len(train), num_workers=1)\n",
    "data = next(iter(loader))\n",
    "mean=data[0].mean()\n",
    "std=data[0].std()"
   ]
  },
  {
   "cell_type": "code",
   "execution_count": 6,
   "id": "6843c5cf",
   "metadata": {
    "execution": {
     "iopub.execute_input": "2022-06-03T15:25:47.664964Z",
     "iopub.status.busy": "2022-06-03T15:25:47.664368Z",
     "iopub.status.idle": "2022-06-03T15:25:47.697624Z",
     "shell.execute_reply": "2022-06-03T15:25:47.696976Z",
     "shell.execute_reply.started": "2022-06-03T12:08:18.958090Z"
    },
    "papermill": {
     "duration": 0.059248,
     "end_time": "2022-06-03T15:25:47.697777",
     "exception": false,
     "start_time": "2022-06-03T15:25:47.638529",
     "status": "completed"
    },
    "tags": []
   },
   "outputs": [],
   "source": [
    "train=torchvision.datasets.FashionMNIST(\n",
    "    root=\"../data/input/\",\n",
    "    download=True,\n",
    "    train=True,\n",
    "    transform=transforms.Compose([transforms.ToTensor(),\n",
    "                                 transforms.Normalize(mean,std)])\n",
    ")"
   ]
  },
  {
   "cell_type": "markdown",
   "id": "c300bde0",
   "metadata": {
    "papermill": {
     "duration": 0.020425,
     "end_time": "2022-06-03T15:25:47.739210",
     "exception": false,
     "start_time": "2022-06-03T15:25:47.718785",
     "status": "completed"
    },
    "tags": []
   },
   "source": [
    "##### For simplicity, We have defined our Network with only 5 layers as below:\n",
    "* 2 Convolution layers (Each Conv layer is followed by a ReLU activation and max pooling layer)\n",
    "* 2 Linear layers ( Each Linear layer is followed only by a ReLU activation layer)\n",
    "* Output layer"
   ]
  },
  {
   "cell_type": "code",
   "execution_count": 7,
   "id": "ee619926",
   "metadata": {
    "execution": {
     "iopub.execute_input": "2022-06-03T15:25:47.789310Z",
     "iopub.status.busy": "2022-06-03T15:25:47.788674Z",
     "iopub.status.idle": "2022-06-03T15:25:47.791516Z",
     "shell.execute_reply": "2022-06-03T15:25:47.790901Z",
     "shell.execute_reply.started": "2022-06-03T12:08:19.010137Z"
    },
    "papermill": {
     "duration": 0.031947,
     "end_time": "2022-06-03T15:25:47.791659",
     "exception": false,
     "start_time": "2022-06-03T15:25:47.759712",
     "status": "completed"
    },
    "tags": []
   },
   "outputs": [],
   "source": [
    "class Network(nn.Module):\n",
    "    def __init__(self):\n",
    "        super().__init__()\n",
    "        self.conv1=nn.Conv2d(in_channels=1, out_channels=6, kernel_size=5)\n",
    "        self.conv2=nn.Conv2d(in_channels=6, out_channels=12, kernel_size=5)\n",
    "        \n",
    "        self.fc1=nn.Linear(in_features=12*4*4, out_features=120)\n",
    "        self.fc2=nn.Linear(in_features=120, out_features=60)\n",
    "        \n",
    "        self.out=nn.Linear(in_features=60, out_features=10)\n",
    "        \n",
    "    def forward(self,t):\n",
    "        #input layer\n",
    "        t=t\n",
    "        \n",
    "        #1st conv-hidden layer\n",
    "        t=F.relu(self.conv1(t))\n",
    "        t=F.max_pool2d(t, kernel_size=2, stride=2)\n",
    "        \n",
    "        #2nd conv-hidden layer\n",
    "        t=F.relu(self.conv2(t))\n",
    "        t=F.max_pool2d(t, kernel_size=2, stride=2)\n",
    "        \n",
    "        #3rd linear-hidden layer\n",
    "        t=t.reshape(-1,12*4*4)\n",
    "        t=F.relu(self.fc1(t))\n",
    "        \n",
    "        #4th linear-hidden layer\n",
    "        t=F.relu(self.fc2(t))\n",
    "        \n",
    "        #output layer\n",
    "        t=self.out(t)\n",
    "        return t"
   ]
  },
  {
   "cell_type": "markdown",
   "id": "ea45005c",
   "metadata": {
    "papermill": {
     "duration": 0.020396,
     "end_time": "2022-06-03T15:25:47.832808",
     "exception": false,
     "start_time": "2022-06-03T15:25:47.812412",
     "status": "completed"
    },
    "tags": []
   },
   "source": [
    "### Building a confusion Matrix \n",
    "#### We trained a dummy network to get some inference and show how we can build a confusion matrix. Below code should be used after completion of training of our model at the end."
   ]
  },
  {
   "cell_type": "code",
   "execution_count": 8,
   "id": "71197da8",
   "metadata": {
    "execution": {
     "iopub.execute_input": "2022-06-03T15:25:47.878633Z",
     "iopub.status.busy": "2022-06-03T15:25:47.878002Z",
     "iopub.status.idle": "2022-06-03T15:25:47.880181Z",
     "shell.execute_reply": "2022-06-03T15:25:47.880705Z",
     "shell.execute_reply.started": "2022-06-03T12:08:25.819311Z"
    },
    "papermill": {
     "duration": 0.027445,
     "end_time": "2022-06-03T15:25:47.880865",
     "exception": false,
     "start_time": "2022-06-03T15:25:47.853420",
     "status": "completed"
    },
    "tags": []
   },
   "outputs": [],
   "source": [
    "def get_count_correct(preds,labels):\n",
    "    return preds.argmax(dim=1).eq(labels).sum()"
   ]
  },
  {
   "cell_type": "code",
   "execution_count": 9,
   "id": "cf4b472a",
   "metadata": {
    "execution": {
     "iopub.execute_input": "2022-06-03T15:25:47.934439Z",
     "iopub.status.busy": "2022-06-03T15:25:47.924693Z",
     "iopub.status.idle": "2022-06-03T15:27:58.411932Z",
     "shell.execute_reply": "2022-06-03T15:27:58.412663Z",
     "shell.execute_reply.started": "2022-06-02T15:58:40.694133Z"
    },
    "papermill": {
     "duration": 130.511048,
     "end_time": "2022-06-03T15:27:58.412905",
     "exception": false,
     "start_time": "2022-06-03T15:25:47.901857",
     "status": "completed"
    },
    "tags": []
   },
   "outputs": [
    {
     "name": "stdout",
     "output_type": "stream",
     "text": [
      "Epoch:0 loss:331.52199195325375 Total Correct:47572\n",
      "Epoch:1 loss:234.26707085967064 Total Correct:51413\n",
      "Epoch:2 loss:218.31524005532265 Total Correct:51942\n",
      "Epoch:3 loss:207.1747744679451 Total Correct:52347\n",
      "Epoch:4 loss:206.13930544257164 Total Correct:52421\n",
      "Epoch:5 loss:200.76010026037693 Total Correct:52622\n",
      "Epoch:6 loss:197.32621236145496 Total Correct:52880\n",
      "Epoch:7 loss:192.5560147613287 Total Correct:52976\n"
     ]
    }
   ],
   "source": [
    "network=Network()\n",
    "optimizer=optim.Adam(network.parameters(), lr=0.01)\n",
    "train_loader=torch.utils.data.DataLoader(train, batch_size=100, shuffle=True)\n",
    "\n",
    "#Trained our network\n",
    "epochs=8\n",
    "for epoch in range(epochs):\n",
    "    \n",
    "    total_correct=0\n",
    "    total_loss=0\n",
    "    for batch in train_loader:\n",
    "        images,labels=batch\n",
    "        preds=network(images)\n",
    "\n",
    "        loss=F.cross_entropy(preds,labels)\n",
    "        total_loss+=loss.item()\n",
    "        total_correct+=get_count_correct(preds,labels)\n",
    "\n",
    "        optimizer.zero_grad()\n",
    "        loss.backward()\n",
    "        optimizer.step()\n",
    "\n",
    "    print(f\"Epoch:{epoch} loss:{total_loss} Total Correct:{total_correct}\")"
   ]
  },
  {
   "cell_type": "code",
   "execution_count": 10,
   "id": "42247809",
   "metadata": {
    "execution": {
     "iopub.execute_input": "2022-06-03T15:27:58.467481Z",
     "iopub.status.busy": "2022-06-03T15:27:58.466816Z",
     "iopub.status.idle": "2022-06-03T15:28:11.177219Z",
     "shell.execute_reply": "2022-06-03T15:28:11.176674Z",
     "shell.execute_reply.started": "2022-06-02T16:01:31.45397Z"
    },
    "papermill": {
     "duration": 12.740682,
     "end_time": "2022-06-03T15:28:11.177370",
     "exception": false,
     "start_time": "2022-06-03T15:27:58.436688",
     "status": "completed"
    },
    "tags": []
   },
   "outputs": [],
   "source": [
    "#Building Confusion Matrix\n",
    "def get_preds(model,data_loader):\n",
    "    all_preds=torch.tensor([])\n",
    "    with torch.no_grad():\n",
    "        for batch in data_loader:\n",
    "            images,labels=batch\n",
    "            preds=model(images)\n",
    "            \n",
    "            all_preds=torch.cat((all_preds,preds), dim=0)\n",
    "    return all_preds\n",
    "\n",
    "pred_loader=torch.utils.data.DataLoader(train, batch_size=1000)\n",
    "with torch.no_grad():\n",
    "#     preds=get_preds(network,pred_loader).argmax(dim=1)\n",
    "    preds=get_preds(network,pred_loader).argmax(dim=1)\n",
    "\n",
    "confusion_matrix=torch.zeros(len(train.targets.unique()),len(train.targets.unique()), dtype=torch.int32)\n",
    "paired_preds=torch.stack((train.targets,preds), dim=1)\n",
    "\n",
    "for pair in paired_preds:\n",
    "    true_label,predicted_label=pair.tolist()\n",
    "    confusion_matrix[true_label][predicted_label]+=1\n"
   ]
  },
  {
   "cell_type": "code",
   "execution_count": 11,
   "id": "db0471fb",
   "metadata": {
    "execution": {
     "iopub.execute_input": "2022-06-03T15:28:11.226739Z",
     "iopub.status.busy": "2022-06-03T15:28:11.225781Z",
     "iopub.status.idle": "2022-06-03T15:28:11.233258Z",
     "shell.execute_reply": "2022-06-03T15:28:11.233686Z",
     "shell.execute_reply.started": "2022-06-02T16:02:13.54265Z"
    },
    "papermill": {
     "duration": 0.033834,
     "end_time": "2022-06-03T15:28:11.233838",
     "exception": false,
     "start_time": "2022-06-03T15:28:11.200004",
     "status": "completed"
    },
    "tags": []
   },
   "outputs": [],
   "source": [
    "import itertools\n",
    "\n",
    "def plot_confusion_matrix(cm, classes, normalize=False, title='Confusion matrix', cmap=plt.cm.Blues):\n",
    "    if normalize:\n",
    "        cm = cm.astype('float') / cm.sum(axis=1)[:, np.newaxis]\n",
    "        print(\"Normalized confusion matrix\")\n",
    "    else:\n",
    "        print('Confusion matrix, without normalization')\n",
    "\n",
    "    print(cm)\n",
    "    plt.imshow(cm, interpolation='nearest', cmap=cmap)\n",
    "    plt.title(title)\n",
    "    plt.colorbar()\n",
    "    tick_marks = np.arange(len(classes))\n",
    "    plt.xticks(tick_marks, classes, rotation=45)\n",
    "    plt.yticks(tick_marks, classes)\n",
    "\n",
    "    fmt = '.2f' if normalize else 'd'\n",
    "    thresh = cm.max() / 2.\n",
    "    for i, j in itertools.product(range(cm.shape[0]), range(cm.shape[1])):\n",
    "        plt.text(j, i, format(cm[i, j], fmt), horizontalalignment=\"center\", color=\"white\" if cm[i, j] > thresh else \"black\")\n",
    "\n",
    "    plt.tight_layout()\n",
    "    plt.ylabel('True label')\n",
    "    plt.xlabel('Predicted label')"
   ]
  },
  {
   "cell_type": "code",
   "execution_count": 12,
   "id": "2cbd487c",
   "metadata": {
    "execution": {
     "iopub.execute_input": "2022-06-03T15:28:11.284356Z",
     "iopub.status.busy": "2022-06-03T15:28:11.283411Z",
     "iopub.status.idle": "2022-06-03T15:28:12.136605Z",
     "shell.execute_reply": "2022-06-03T15:28:12.135959Z",
     "shell.execute_reply.started": "2022-06-02T16:02:18.833348Z"
    },
    "papermill": {
     "duration": 0.880562,
     "end_time": "2022-06-03T15:28:12.136752",
     "exception": false,
     "start_time": "2022-06-03T15:28:11.256190",
     "status": "completed"
    },
    "tags": []
   },
   "outputs": [
    {
     "name": "stdout",
     "output_type": "stream",
     "text": [
      "Confusion matrix, without normalization\n",
      "tensor([[4695,    4,   37,  313,   19,    2,  865,    2,   63,    0],\n",
      "        [   6, 5814,    2,  148,   10,    1,   13,    0,    6,    0],\n",
      "        [  90,    0, 3942,   67, 1153,    3,  731,    0,   14,    0],\n",
      "        [  74,    7,    9, 5668,   76,    0,  121,    2,   43,    0],\n",
      "        [   5,    3,  122,  439, 4849,    0,  553,    0,   29,    0],\n",
      "        [   1,    0,    0,   15,    0, 5669,    5,  130,  123,   57],\n",
      "        [ 584,    4,  166,  228,  421,    2, 4541,    0,   53,    1],\n",
      "        [   1,    0,    0,    8,    0,   99,    0, 5790,   19,   83],\n",
      "        [   8,    2,    6,   20,   17,    5,   73,    8, 5853,    8],\n",
      "        [   0,    0,    0,    4,    0,   37,    2,  299,   71, 5587]],\n",
      "       dtype=torch.int32)\n"
     ]
    },
    {
     "data": {
      "image/png": "[encoded data removed]",
      "text/plain": [
       "<Figure size 720x720 with 2 Axes>"
      ]
     },
     "metadata": {
      "needs_background": "light"
     },
     "output_type": "display_data"
    }
   ],
   "source": [
    "plt.figure(figsize=(10,10))\n",
    "plot_confusion_matrix(confusion_matrix,train.classes)"
   ]
  },
  {
   "cell_type": "markdown",
   "id": "c379bafc",
   "metadata": {
    "papermill": {
     "duration": 0.024228,
     "end_time": "2022-06-03T15:28:12.185716",
     "exception": false,
     "start_time": "2022-06-03T15:28:12.161488",
     "status": "completed"
    },
    "tags": []
   },
   "source": [
    "#### For Hyperparameter tuning, we have built two classes which will be used to track and compare the results duirng mutliple runs with different parameter values.\n",
    "* RunBuilder class\n",
    "* RunManager class\n",
    "\n",
    "###### Note: TensorBoard could not be used here on a kaggle kernel due to lot of complexities, hence related code lines are commented."
   ]
  },
  {
   "cell_type": "code",
   "execution_count": 13,
   "id": "f1cdb79b",
   "metadata": {
    "execution": {
     "iopub.execute_input": "2022-06-03T15:28:12.240227Z",
     "iopub.status.busy": "2022-06-03T15:28:12.239639Z",
     "iopub.status.idle": "2022-06-03T15:28:12.241814Z",
     "shell.execute_reply": "2022-06-03T15:28:12.242259Z",
     "shell.execute_reply.started": "2022-06-03T12:08:56.271177Z"
    },
    "papermill": {
     "duration": 0.031995,
     "end_time": "2022-06-03T15:28:12.242414",
     "exception": false,
     "start_time": "2022-06-03T15:28:12.210419",
     "status": "completed"
    },
    "tags": []
   },
   "outputs": [],
   "source": [
    "class RunBuilder:\n",
    "    @staticmethod\n",
    "    def get_runs(params):\n",
    "        runs=[]\n",
    "        \n",
    "        Run=namedtuple(\"Run\", params.keys())\n",
    "        for v in product(*params.values()):\n",
    "            runs.append(Run(*v))\n",
    "        return runs"
   ]
  },
  {
   "cell_type": "code",
   "execution_count": 14,
   "id": "6a03b5ca",
   "metadata": {
    "execution": {
     "iopub.execute_input": "2022-06-03T15:28:12.304590Z",
     "iopub.status.busy": "2022-06-03T15:28:12.303683Z",
     "iopub.status.idle": "2022-06-03T15:28:12.306476Z",
     "shell.execute_reply": "2022-06-03T15:28:12.306039Z",
     "shell.execute_reply.started": "2022-06-03T12:08:56.532753Z"
    },
    "papermill": {
     "duration": 0.039749,
     "end_time": "2022-06-03T15:28:12.306608",
     "exception": false,
     "start_time": "2022-06-03T15:28:12.266859",
     "status": "completed"
    },
    "tags": []
   },
   "outputs": [],
   "source": [
    "class RunManager:\n",
    "    def __init__(self):\n",
    "        self.epoch_count = 0\n",
    "        self.epoch_loss = 0\n",
    "        self.epoch_num_correct = 0\n",
    "        self.epoch_start_time = None\n",
    "\n",
    "        self.run_params = None\n",
    "        self.run_count = 0\n",
    "        self.run_data = []\n",
    "        self.run_start_time = None\n",
    "\n",
    "        self.network = None\n",
    "        self.loader = None\n",
    "#         self.tb = None\n",
    "    def begin_run(self, run, network, loader):\n",
    "        self.run_start_time = time.time()\n",
    "        self.run_params = run\n",
    "        self.run_count += 1\n",
    "        self.network = network\n",
    "        self.loader = loader\n",
    "#         self.tb = SummaryWriter(comment=f'-{run}')\n",
    "#         images, labels = next(iter(self.loader))\n",
    "#         grid = torchvision.utils.make_grid(images)\n",
    "#         self.tb.add_image('images', grid)\n",
    "#         self.tb.add_graph(self.network, images)\n",
    "\n",
    "    def end_run(self):\n",
    "#         self.tb.close()\n",
    "        self.epoch_count = 0\n",
    "    \n",
    "    def begin_epoch(self):\n",
    "        self.epoch_start_time = time.time()\n",
    "        self.epoch_count += 1\n",
    "        self.epoch_loss = 0\n",
    "        self.epoch_num_correct = 0\n",
    "        \n",
    "    \n",
    "    def end_epoch(self):\n",
    "        epoch_duration = time.time() - self.epoch_start_time\n",
    "        run_duration = time.time() - self.run_start_time\n",
    "\n",
    "        loss = self.epoch_loss / len(self.loader.dataset)\n",
    "        accuracy = self.epoch_num_correct / len(self.loader.dataset)\n",
    "        \n",
    "#         self.tb.add_scalar('Loss', loss, self.epoch_count)\n",
    "#         self.tb.add_scalar('Accuracy', accuracy, self.epoch_count)\n",
    "\n",
    "#         for name, param in self.network.named_parameters():\n",
    "#             self.tb.add_histogram(name, param, self.epoch_count)\n",
    "#             self.tb.add_histogram(f'{name}.grad', param.grad, self.epoch_count)\n",
    "\n",
    "        results = OrderedDict()\n",
    "        results[\"run\"] = self.run_count\n",
    "        results[\"epoch\"] = self.epoch_count\n",
    "        results['loss'] = loss\n",
    "        results[\"accuracy\"] = accuracy\n",
    "        results['epoch duration'] = epoch_duration\n",
    "        results['run duration'] = run_duration\n",
    "        for k,v in self.run_params._asdict().items(): results[k] = v\n",
    "        self.run_data.append(results)\n",
    "\n",
    "        df = pd.DataFrame.from_dict(self.run_data, orient='columns')\n",
    "        \n",
    "        clear_output(wait=True)\n",
    "        display(df)\n",
    "    \n",
    "    def track_loss(self, loss, batch):\n",
    "        self.epoch_loss += loss.item() * batch[0].shape[0]\n",
    "\n",
    "    def track_num_correct(self, preds, labels):\n",
    "        self.epoch_num_correct += self.get_count_correct(preds, labels)\n",
    "\n",
    "    def save(self, fileName):\n",
    "        pd.DataFrame.from_dict(\n",
    "            self.run_data, orient='columns'\n",
    "        ).to_csv(f'{fileName}.csv')\n",
    "\n",
    "#         with open(f'{fileName}.json', 'w', encoding='utf-8') as f:\n",
    "#             json.dump(self.run_data, f, ensure_ascii=False, indent=4)\n",
    "            \n",
    "    def get_count_correct(self,preds,labels):\n",
    "        return float(preds.argmax(dim=1).eq(labels).sum())"
   ]
  },
  {
   "cell_type": "markdown",
   "id": "0a32c452",
   "metadata": {
    "papermill": {
     "duration": 0.02395,
     "end_time": "2022-06-03T15:28:12.355671",
     "exception": false,
     "start_time": "2022-06-03T15:28:12.331721",
     "status": "completed"
    },
    "tags": []
   },
   "source": [
    "#### With above two powerful classes in place, we can test any number of Hyperparameters with minimal effort. We just need to add the key and values we want to test to our 'params' ordered-dictionary."
   ]
  },
  {
   "cell_type": "code",
   "execution_count": 15,
   "id": "0f886850",
   "metadata": {
    "execution": {
     "iopub.execute_input": "2022-06-03T15:28:12.412310Z",
     "iopub.status.busy": "2022-06-03T15:28:12.411427Z",
     "iopub.status.idle": "2022-06-03T15:33:23.943898Z",
     "shell.execute_reply": "2022-06-03T15:33:23.943413Z",
     "shell.execute_reply.started": "2022-06-03T07:35:12.473077Z"
    },
    "papermill": {
     "duration": 311.564393,
     "end_time": "2022-06-03T15:33:23.944088",
     "exception": false,
     "start_time": "2022-06-03T15:28:12.379695",
     "status": "completed"
    },
    "tags": []
   },
   "outputs": [
    {
     "data": {
      "text/html": [
       "<div>\n",
       "<style scoped>\n",
       "    .dataframe tbody tr th:only-of-type {\n",
       "        vertical-align: middle;\n",
       "    }\n",
       "\n",
       "    .dataframe tbody tr th {\n",
       "        vertical-align: top;\n",
       "    }\n",
       "\n",
       "    .dataframe thead th {\n",
       "        text-align: right;\n",
       "    }\n",
       "</style>\n",
       "<table border=\"1\" class=\"dataframe\">\n",
       "  <thead>\n",
       "    <tr style=\"text-align: right;\">\n",
       "      <th></th>\n",
       "      <th>run</th>\n",
       "      <th>epoch</th>\n",
       "      <th>loss</th>\n",
       "      <th>accuracy</th>\n",
       "      <th>epoch duration</th>\n",
       "      <th>run duration</th>\n",
       "      <th>lr</th>\n",
       "      <th>batch_size</th>\n",
       "    </tr>\n",
       "  </thead>\n",
       "  <tbody>\n",
       "    <tr>\n",
       "      <th>0</th>\n",
       "      <td>1</td>\n",
       "      <td>1</td>\n",
       "      <td>2.696941</td>\n",
       "      <td>0.100650</td>\n",
       "      <td>16.396177</td>\n",
       "      <td>16.396183</td>\n",
       "      <td>0.10</td>\n",
       "      <td>100</td>\n",
       "    </tr>\n",
       "    <tr>\n",
       "      <th>1</th>\n",
       "      <td>1</td>\n",
       "      <td>2</td>\n",
       "      <td>2.309115</td>\n",
       "      <td>0.099833</td>\n",
       "      <td>16.478580</td>\n",
       "      <td>32.906988</td>\n",
       "      <td>0.10</td>\n",
       "      <td>100</td>\n",
       "    </tr>\n",
       "    <tr>\n",
       "      <th>2</th>\n",
       "      <td>1</td>\n",
       "      <td>3</td>\n",
       "      <td>2.309883</td>\n",
       "      <td>0.099250</td>\n",
       "      <td>16.628914</td>\n",
       "      <td>49.545330</td>\n",
       "      <td>0.10</td>\n",
       "      <td>100</td>\n",
       "    </tr>\n",
       "    <tr>\n",
       "      <th>3</th>\n",
       "      <td>1</td>\n",
       "      <td>4</td>\n",
       "      <td>2.309240</td>\n",
       "      <td>0.099450</td>\n",
       "      <td>16.337620</td>\n",
       "      <td>65.893673</td>\n",
       "      <td>0.10</td>\n",
       "      <td>100</td>\n",
       "    </tr>\n",
       "    <tr>\n",
       "      <th>4</th>\n",
       "      <td>1</td>\n",
       "      <td>5</td>\n",
       "      <td>2.309722</td>\n",
       "      <td>0.101833</td>\n",
       "      <td>16.821454</td>\n",
       "      <td>82.724995</td>\n",
       "      <td>0.10</td>\n",
       "      <td>100</td>\n",
       "    </tr>\n",
       "    <tr>\n",
       "      <th>5</th>\n",
       "      <td>2</td>\n",
       "      <td>1</td>\n",
       "      <td>2.819495</td>\n",
       "      <td>0.099867</td>\n",
       "      <td>14.352983</td>\n",
       "      <td>14.353012</td>\n",
       "      <td>0.10</td>\n",
       "      <td>300</td>\n",
       "    </tr>\n",
       "    <tr>\n",
       "      <th>6</th>\n",
       "      <td>2</td>\n",
       "      <td>2</td>\n",
       "      <td>2.305288</td>\n",
       "      <td>0.098800</td>\n",
       "      <td>14.866327</td>\n",
       "      <td>29.229733</td>\n",
       "      <td>0.10</td>\n",
       "      <td>300</td>\n",
       "    </tr>\n",
       "    <tr>\n",
       "      <th>7</th>\n",
       "      <td>2</td>\n",
       "      <td>3</td>\n",
       "      <td>2.305572</td>\n",
       "      <td>0.098817</td>\n",
       "      <td>14.567641</td>\n",
       "      <td>43.807987</td>\n",
       "      <td>0.10</td>\n",
       "      <td>300</td>\n",
       "    </tr>\n",
       "    <tr>\n",
       "      <th>8</th>\n",
       "      <td>2</td>\n",
       "      <td>4</td>\n",
       "      <td>2.305925</td>\n",
       "      <td>0.100483</td>\n",
       "      <td>14.636917</td>\n",
       "      <td>58.455387</td>\n",
       "      <td>0.10</td>\n",
       "      <td>300</td>\n",
       "    </tr>\n",
       "    <tr>\n",
       "      <th>9</th>\n",
       "      <td>2</td>\n",
       "      <td>5</td>\n",
       "      <td>2.306410</td>\n",
       "      <td>0.098667</td>\n",
       "      <td>14.692245</td>\n",
       "      <td>73.157801</td>\n",
       "      <td>0.10</td>\n",
       "      <td>300</td>\n",
       "    </tr>\n",
       "    <tr>\n",
       "      <th>10</th>\n",
       "      <td>3</td>\n",
       "      <td>1</td>\n",
       "      <td>0.553406</td>\n",
       "      <td>0.794250</td>\n",
       "      <td>16.193834</td>\n",
       "      <td>16.193866</td>\n",
       "      <td>0.01</td>\n",
       "      <td>100</td>\n",
       "    </tr>\n",
       "    <tr>\n",
       "      <th>11</th>\n",
       "      <td>3</td>\n",
       "      <td>2</td>\n",
       "      <td>0.391501</td>\n",
       "      <td>0.856400</td>\n",
       "      <td>16.514690</td>\n",
       "      <td>32.725178</td>\n",
       "      <td>0.01</td>\n",
       "      <td>100</td>\n",
       "    </tr>\n",
       "    <tr>\n",
       "      <th>12</th>\n",
       "      <td>3</td>\n",
       "      <td>3</td>\n",
       "      <td>0.368971</td>\n",
       "      <td>0.864750</td>\n",
       "      <td>16.520932</td>\n",
       "      <td>49.257870</td>\n",
       "      <td>0.01</td>\n",
       "      <td>100</td>\n",
       "    </tr>\n",
       "    <tr>\n",
       "      <th>13</th>\n",
       "      <td>3</td>\n",
       "      <td>4</td>\n",
       "      <td>0.350889</td>\n",
       "      <td>0.872517</td>\n",
       "      <td>16.695789</td>\n",
       "      <td>65.966170</td>\n",
       "      <td>0.01</td>\n",
       "      <td>100</td>\n",
       "    </tr>\n",
       "    <tr>\n",
       "      <th>14</th>\n",
       "      <td>3</td>\n",
       "      <td>5</td>\n",
       "      <td>0.348433</td>\n",
       "      <td>0.872967</td>\n",
       "      <td>16.301754</td>\n",
       "      <td>82.281071</td>\n",
       "      <td>0.01</td>\n",
       "      <td>100</td>\n",
       "    </tr>\n",
       "    <tr>\n",
       "      <th>15</th>\n",
       "      <td>4</td>\n",
       "      <td>1</td>\n",
       "      <td>0.612099</td>\n",
       "      <td>0.770633</td>\n",
       "      <td>14.764003</td>\n",
       "      <td>14.764039</td>\n",
       "      <td>0.01</td>\n",
       "      <td>300</td>\n",
       "    </tr>\n",
       "    <tr>\n",
       "      <th>16</th>\n",
       "      <td>4</td>\n",
       "      <td>2</td>\n",
       "      <td>0.378894</td>\n",
       "      <td>0.859917</td>\n",
       "      <td>14.477785</td>\n",
       "      <td>29.254451</td>\n",
       "      <td>0.01</td>\n",
       "      <td>300</td>\n",
       "    </tr>\n",
       "    <tr>\n",
       "      <th>17</th>\n",
       "      <td>4</td>\n",
       "      <td>3</td>\n",
       "      <td>0.335457</td>\n",
       "      <td>0.875350</td>\n",
       "      <td>14.727278</td>\n",
       "      <td>43.994780</td>\n",
       "      <td>0.01</td>\n",
       "      <td>300</td>\n",
       "    </tr>\n",
       "    <tr>\n",
       "      <th>18</th>\n",
       "      <td>4</td>\n",
       "      <td>4</td>\n",
       "      <td>0.316518</td>\n",
       "      <td>0.882083</td>\n",
       "      <td>14.577884</td>\n",
       "      <td>58.585550</td>\n",
       "      <td>0.01</td>\n",
       "      <td>300</td>\n",
       "    </tr>\n",
       "    <tr>\n",
       "      <th>19</th>\n",
       "      <td>4</td>\n",
       "      <td>5</td>\n",
       "      <td>0.292907</td>\n",
       "      <td>0.891000</td>\n",
       "      <td>14.707286</td>\n",
       "      <td>73.306067</td>\n",
       "      <td>0.01</td>\n",
       "      <td>300</td>\n",
       "    </tr>\n",
       "  </tbody>\n",
       "</table>\n",
       "</div>"
      ],
      "text/plain": [
       "    run  epoch      loss  accuracy  epoch duration  run duration    lr  \\\n",
       "0     1      1  2.696941  0.100650       16.396177     16.396183  0.10   \n",
       "1     1      2  2.309115  0.099833       16.478580     32.906988  0.10   \n",
       "2     1      3  2.309883  0.099250       16.628914     49.545330  0.10   \n",
       "3     1      4  2.309240  0.099450       16.337620     65.893673  0.10   \n",
       "4     1      5  2.309722  0.101833       16.821454     82.724995  0.10   \n",
       "5     2      1  2.819495  0.099867       14.352983     14.353012  0.10   \n",
       "6     2      2  2.305288  0.098800       14.866327     29.229733  0.10   \n",
       "7     2      3  2.305572  0.098817       14.567641     43.807987  0.10   \n",
       "8     2      4  2.305925  0.100483       14.636917     58.455387  0.10   \n",
       "9     2      5  2.306410  0.098667       14.692245     73.157801  0.10   \n",
       "10    3      1  0.553406  0.794250       16.193834     16.193866  0.01   \n",
       "11    3      2  0.391501  0.856400       16.514690     32.725178  0.01   \n",
       "12    3      3  0.368971  0.864750       16.520932     49.257870  0.01   \n",
       "13    3      4  0.350889  0.872517       16.695789     65.966170  0.01   \n",
       "14    3      5  0.348433  0.872967       16.301754     82.281071  0.01   \n",
       "15    4      1  0.612099  0.770633       14.764003     14.764039  0.01   \n",
       "16    4      2  0.378894  0.859917       14.477785     29.254451  0.01   \n",
       "17    4      3  0.335457  0.875350       14.727278     43.994780  0.01   \n",
       "18    4      4  0.316518  0.882083       14.577884     58.585550  0.01   \n",
       "19    4      5  0.292907  0.891000       14.707286     73.306067  0.01   \n",
       "\n",
       "    batch_size  \n",
       "0          100  \n",
       "1          100  \n",
       "2          100  \n",
       "3          100  \n",
       "4          100  \n",
       "5          300  \n",
       "6          300  \n",
       "7          300  \n",
       "8          300  \n",
       "9          300  \n",
       "10         100  \n",
       "11         100  \n",
       "12         100  \n",
       "13         100  \n",
       "14         100  \n",
       "15         300  \n",
       "16         300  \n",
       "17         300  \n",
       "18         300  \n",
       "19         300  "
      ]
     },
     "metadata": {},
     "output_type": "display_data"
    }
   ],
   "source": [
    "params=OrderedDict(\n",
    "    lr=[0.1,0.01],\n",
    "    batch_size=[100,300])\n",
    "\n",
    "m=RunManager()\n",
    "\n",
    "for run in RunBuilder.get_runs(params):\n",
    "    network=Network()\n",
    "    optimizer=optim.Adam(network.parameters(), lr=run.lr)\n",
    "    train_loader=torch.utils.data.DataLoader(train, batch_size=run.batch_size, shuffle=True)\n",
    "    \n",
    "    \n",
    "    epochs=5\n",
    "    m.begin_run(run,network,train_loader)\n",
    "    for epoch in range(epochs):\n",
    "        m.begin_epoch()\n",
    "        for batch in train_loader:\n",
    "            images,labels=batch\n",
    "            preds=network(images)\n",
    "\n",
    "            loss=F.cross_entropy(preds,labels)\n",
    "\n",
    "            optimizer.zero_grad()\n",
    "            loss.backward()\n",
    "            optimizer.step()\n",
    "            \n",
    "            m.track_loss(loss,batch)\n",
    "            m.track_num_correct(preds,labels)\n",
    "        m.end_epoch()\n",
    "    m.end_run()\n",
    "m.save(\"results\")"
   ]
  },
  {
   "cell_type": "markdown",
   "id": "881d3552",
   "metadata": {
    "papermill": {
     "duration": 0.024999,
     "end_time": "2022-06-03T15:33:23.994944",
     "exception": false,
     "start_time": "2022-06-03T15:33:23.969945",
     "status": "completed"
    },
    "tags": []
   },
   "source": [
    "##### As per the above testing of runs,we found the best lr=0.01 and batch_size=300."
   ]
  },
  {
   "cell_type": "code",
   "execution_count": 16,
   "id": "a61ed9b1",
   "metadata": {
    "execution": {
     "iopub.execute_input": "2022-06-03T15:33:24.048787Z",
     "iopub.status.busy": "2022-06-03T15:33:24.048224Z",
     "iopub.status.idle": "2022-06-03T15:35:50.052200Z",
     "shell.execute_reply": "2022-06-03T15:35:50.052654Z",
     "shell.execute_reply.started": "2022-06-03T12:09:37.869273Z"
    },
    "papermill": {
     "duration": 146.032523,
     "end_time": "2022-06-03T15:35:50.052828",
     "exception": false,
     "start_time": "2022-06-03T15:33:24.020305",
     "status": "completed"
    },
    "tags": []
   },
   "outputs": [
    {
     "name": "stdout",
     "output_type": "stream",
     "text": [
      "Epoch:0 loss:121.63634204864502 Total Correct:46123\n",
      "Epoch:1 loss:75.6784086972475 Total Correct:51675\n",
      "Epoch:2 loss:66.90443137288094 Total Correct:52496\n",
      "Epoch:3 loss:62.940467208623886 Total Correct:53014\n",
      "Epoch:4 loss:59.90317215025425 Total Correct:53275\n",
      "Epoch:5 loss:58.27582532167435 Total Correct:53492\n",
      "Epoch:6 loss:56.113839730620384 Total Correct:53756\n",
      "Epoch:7 loss:53.64871099591255 Total Correct:53947\n",
      "Epoch:8 loss:52.8780330568552 Total Correct:54023\n",
      "Epoch:9 loss:53.46798352897167 Total Correct:54003\n"
     ]
    }
   ],
   "source": [
    "batch_size=300\n",
    "lr=0.01\n",
    "epochs=10\n",
    "\n",
    "\n",
    "network=Network()\n",
    "optimizer=optim.Adam(network.parameters(), lr=lr)\n",
    "train_loader=torch.utils.data.DataLoader(train, batch_size=batch_size, shuffle=True)\n",
    "\n",
    "for epoch in range(epochs):\n",
    "    \n",
    "    total_correct=0\n",
    "    total_loss=0\n",
    "    for batch in train_loader:\n",
    "        images,labels=batch\n",
    "        preds=network(images)\n",
    "\n",
    "        loss=F.cross_entropy(preds,labels)\n",
    "        total_loss+=loss.item()\n",
    "        total_correct+=get_count_correct(preds,labels)\n",
    "\n",
    "        optimizer.zero_grad()\n",
    "        loss.backward()\n",
    "        optimizer.step()\n",
    "\n",
    "    print(f\"Epoch:{epoch} loss:{total_loss} Total Correct:{total_correct}\")"
   ]
  },
  {
   "cell_type": "code",
   "execution_count": 17,
   "id": "948ca7b6",
   "metadata": {
    "execution": {
     "iopub.execute_input": "2022-06-03T15:35:50.113333Z",
     "iopub.status.busy": "2022-06-03T15:35:50.112729Z",
     "iopub.status.idle": "2022-06-03T15:35:50.117085Z",
     "shell.execute_reply": "2022-06-03T15:35:50.116510Z",
     "shell.execute_reply.started": "2022-06-03T12:15:39.476178Z"
    },
    "papermill": {
     "duration": 0.03643,
     "end_time": "2022-06-03T15:35:50.117222",
     "exception": false,
     "start_time": "2022-06-03T15:35:50.080792",
     "status": "completed"
    },
    "tags": []
   },
   "outputs": [],
   "source": [
    "# import path\n",
    "path='/kaggle/working/'\n",
    "torch.save(network.state_dict(),'checkpoint.pth')"
   ]
  },
  {
   "cell_type": "code",
   "execution_count": 18,
   "id": "714440c6",
   "metadata": {
    "execution": {
     "iopub.execute_input": "2022-06-03T15:35:50.175386Z",
     "iopub.status.busy": "2022-06-03T15:35:50.174751Z",
     "iopub.status.idle": "2022-06-03T15:35:50.181476Z",
     "shell.execute_reply": "2022-06-03T15:35:50.181930Z",
     "shell.execute_reply.started": "2022-06-03T12:12:55.500460Z"
    },
    "papermill": {
     "duration": 0.037333,
     "end_time": "2022-06-03T15:35:50.182107",
     "exception": false,
     "start_time": "2022-06-03T15:35:50.144774",
     "status": "completed"
    },
    "tags": []
   },
   "outputs": [],
   "source": [
    "batch_size=1000\n",
    "test=torchvision.datasets.FashionMNIST(root='../data/input', train=False,\n",
    "                                       download=True,\n",
    "                                       transform=transforms.Compose([transforms.ToTensor(),\n",
    "                                 transforms.Normalize(mean,std)]))\n",
    "test_loader=torch.utils.data.DataLoader(test, batch_size=batch_size,\n",
    "                                         shuffle=False, num_workers=1)"
   ]
  },
  {
   "cell_type": "code",
   "execution_count": 19,
   "id": "0fb140ca",
   "metadata": {
    "execution": {
     "iopub.execute_input": "2022-06-03T15:35:50.242845Z",
     "iopub.status.busy": "2022-06-03T15:35:50.239446Z",
     "iopub.status.idle": "2022-06-03T15:35:52.038175Z",
     "shell.execute_reply": "2022-06-03T15:35:52.038986Z",
     "shell.execute_reply.started": "2022-06-03T12:13:08.238045Z"
    },
    "papermill": {
     "duration": 1.829807,
     "end_time": "2022-06-03T15:35:52.039228",
     "exception": false,
     "start_time": "2022-06-03T15:35:50.209421",
     "status": "completed"
    },
    "tags": []
   },
   "outputs": [
    {
     "name": "stdout",
     "output_type": "stream",
     "text": [
      "Accuracy of the network on the 10000 test images: 87 %\n"
     ]
    }
   ],
   "source": [
    "correct = 0\n",
    "total = 0\n",
    "# since we're not training, we don't need to calculate the gradients for our outputs\n",
    "with torch.no_grad():\n",
    "    for data in test_loader:\n",
    "        images, labels = data\n",
    "        # calculate outputs by running images through the network\n",
    "        outputs = network(images)\n",
    "        # the class with the highest energy is what we choose as prediction\n",
    "        _, predicted = torch.max(outputs.data, 1)\n",
    "        total += labels.size(0)\n",
    "        correct += (predicted == labels).sum().item()\n",
    "        \n",
    "print(f'Accuracy of the network on the 10000 test images: {100 * correct // total} %')"
   ]
  },
  {
   "cell_type": "markdown",
   "id": "2b641316",
   "metadata": {
    "papermill": {
     "duration": 0.027849,
     "end_time": "2022-06-03T15:35:52.096007",
     "exception": false,
     "start_time": "2022-06-03T15:35:52.068158",
     "status": "completed"
    },
    "tags": []
   },
   "source": [
    "### Conclusion:\n",
    "#### This baseline model is able to acheive 88% accuracy on test data which seems good given the network size and architecture. "
   ]
  },
  {
   "cell_type": "code",
   "execution_count": null,
   "id": "b3d2a795",
   "metadata": {
    "papermill": {
     "duration": 0.02725,
     "end_time": "2022-06-03T15:35:52.151497",
     "exception": false,
     "start_time": "2022-06-03T15:35:52.124247",
     "status": "completed"
    },
    "tags": []
   },
   "outputs": [],
   "source": []
  }
 ],
 "metadata": {
  "kernelspec": {
   "display_name": "Python 3",
   "language": "python",
   "name": "python3"
  },
  "language_info": {
   "codemirror_mode": {
    "name": "ipython",
    "version": 3
   },
   "file_extension": ".py",
   "mimetype": "text/x-python",
   "name": "python",
   "nbconvert_exporter": "python",
   "pygments_lexer": "ipython3",
   "version": "3.7.10"
  },
  "papermill": {
   "default_parameters": {},
   "duration": 641.978594,
   "end_time": "2022-06-03T15:35:53.455156",
   "environment_variables": {},
   "exception": null,
   "input_path": "__notebook__.ipynb",
   "output_path": "__notebook__.ipynb",
   "parameters": {},
   "start_time": "2022-06-03T15:25:11.476562",
   "version": "2.3.3"
  },
  "widgets": {
   "application/vnd.jupyter.widget-state+json": {
    "state": {
     "023b38092a354c68817fd1231ec0d220": {
      "model_module": "@jupyter-widgets/base",
      "model_module_version": "1.2.0",
      "model_name": "LayoutModel",
      "state": {
       "_model_module": "@jupyter-widgets/base",
       "_model_module_version": "1.2.0",
       "_model_name": "LayoutModel",
       "_view_count": null,
       "_view_module": "@jupyter-widgets/base",
       "_view_module_version": "1.2.0",
       "_view_name": "LayoutView",
       "align_content": null,
       "align_items": null,
       "align_self": null,
       "border": null,
       "bottom": null,
       "display": null,
       "flex": null,
       "flex_flow": null,
       "grid_area": null,
       "grid_auto_columns": null,
       "grid_auto_flow": null,
       "grid_auto_rows": null,
       "grid_column": null,
       "grid_gap": null,
       "grid_row": null,
       "grid_template_areas": null,
       "grid_template_columns": null,
       "grid_template_rows": null,
       "height": null,
       "justify_content": null,
       "justify_items": null,
       "left": null,
       "margin": null,
       "max_height": null,
       "max_width": null,
       "min_height": null,
       "min_width": null,
       "object_fit": null,
       "object_position": null,
       "order": null,
       "overflow": null,
       "overflow_x": null,
       "overflow_y": null,
       "padding": null,
       "right": null,
       "top": null,
       "visibility": null,
       "width": "20px"
      }
     },
     "04ac761a42a544578be5f3149b956349": {
      "model_module": "@jupyter-widgets/controls",
      "model_module_version": "1.5.0",
      "model_name": "HTMLModel",
      "state": {
       "_dom_classes": [],
       "_model_module": "@jupyter-widgets/controls",
       "_model_module_version": "1.5.0",
       "_model_name": "HTMLModel",
       "_view_count": null,
       "_view_module": "@jupyter-widgets/controls",
       "_view_module_version": "1.5.0",
       "_view_name": "HTMLView",
       "description": "",
       "description_tooltip": null,
       "layout": "IPY_MODEL_532289d3b5a44a5598dc873ce472305f",
       "placeholder": "​",
       "style": "IPY_MODEL_bd3549010ee94ea197d832170513a0ac",
       "value": ""
      }
     },
     "062f13d053fc4045aa1af9d06c59c2cf": {
      "model_module": "@jupyter-widgets/controls",
      "model_module_version": "1.5.0",
      "model_name": "DescriptionStyleModel",
      "state": {
       "_model_module": "@jupyter-widgets/controls",
       "_model_module_version": "1.5.0",
       "_model_name": "DescriptionStyleModel",
       "_view_count": null,
       "_view_module": "@jupyter-widgets/base",
       "_view_module_version": "1.2.0",
       "_view_name": "StyleView",
       "description_width": ""
      }
     },
     "0d6dc7ab223743c4abeee3220628b221": {
      "model_module": "@jupyter-widgets/controls",
      "model_module_version": "1.5.0",
      "model_name": "HTMLModel",
      "state": {
       "_dom_classes": [],
       "_model_module": "@jupyter-widgets/controls",
       "_model_module_version": "1.5.0",
       "_model_name": "HTMLModel",
       "_view_count": null,
       "_view_module": "@jupyter-widgets/controls",
       "_view_module_version": "1.5.0",
       "_view_name": "HTMLView",
       "description": "",
       "description_tooltip": null,
       "layout": "IPY_MODEL_8a512643669542148e93d8ba1b5cd48a",
       "placeholder": "​",
       "style": "IPY_MODEL_f5f1c05aa70f48bc88b01eb2767cd778",
       "value": " 0/5148 [00:00&lt;?, ?it/s]"
      }
     },
     "1aace7d5fb1c46f0839f2bf4fc7bc423": {
      "model_module": "@jupyter-widgets/base",
      "model_module_version": "1.2.0",
      "model_name": "LayoutModel",
      "state": {
       "_model_module": "@jupyter-widgets/base",
       "_model_module_version": "1.2.0",
       "_model_name": "LayoutModel",
       "_view_count": null,
       "_view_module": "@jupyter-widgets/base",
       "_view_module_version": "1.2.0",
       "_view_name": "LayoutView",
       "align_content": null,
       "align_items": null,
       "align_self": null,
       "border": null,
       "bottom": null,
       "display": null,
       "flex": null,
       "flex_flow": null,
       "grid_area": null,
       "grid_auto_columns": null,
       "grid_auto_flow": null,
       "grid_auto_rows": null,
       "grid_column": null,
       "grid_gap": null,
       "grid_row": null,
       "grid_template_areas": null,
       "grid_template_columns": null,
       "grid_template_rows": null,
       "height": null,
       "justify_content": null,
       "justify_items": null,
       "left": null,
       "margin": null,
       "max_height": null,
       "max_width": null,
       "min_height": null,
       "min_width": null,
       "object_fit": null,
       "object_position": null,
       "order": null,
       "overflow": null,
       "overflow_x": null,
       "overflow_y": null,
       "padding": null,
       "right": null,
       "top": null,
       "visibility": null,
       "width": null
      }
     },
     "216a9f35913348c795bf67bdd86ac6a5": {
      "model_module": "@jupyter-widgets/controls",
      "model_module_version": "1.5.0",
      "model_name": "ProgressStyleModel",
      "state": {
       "_model_module": "@jupyter-widgets/controls",
       "_model_module_version": "1.5.0",
       "_model_name": "ProgressStyleModel",
       "_view_count": null,
       "_view_module": "@jupyter-widgets/base",
       "_view_module_version": "1.2.0",
       "_view_name": "StyleView",
       "bar_color": null,
       "description_width": ""
      }
     },
     "2e5bdb329ddf4df4af2eecdcbc09ecd8": {
      "model_module": "@jupyter-widgets/base",
      "model_module_version": "1.2.0",
      "model_name": "LayoutModel",
      "state": {
       "_model_module": "@jupyter-widgets/base",
       "_model_module_version": "1.2.0",
       "_model_name": "LayoutModel",
       "_view_count": null,
       "_view_module": "@jupyter-widgets/base",
       "_view_module_version": "1.2.0",
       "_view_name": "LayoutView",
       "align_content": null,
       "align_items": null,
       "align_self": null,
       "border": null,
       "bottom": null,
       "display": null,
       "flex": null,
       "flex_flow": null,
       "grid_area": null,
       "grid_auto_columns": null,
       "grid_auto_flow": null,
       "grid_auto_rows": null,
       "grid_column": null,
       "grid_gap": null,
       "grid_row": null,
       "grid_template_areas": null,
       "grid_template_columns": null,
       "grid_template_rows": null,
       "height": null,
       "justify_content": null,
       "justify_items": null,
       "left": null,
       "margin": null,
       "max_height": null,
       "max_width": null,
       "min_height": null,
       "min_width": null,
       "object_fit": null,
       "object_position": null,
       "order": null,
       "overflow": null,
       "overflow_x": null,
       "overflow_y": null,
       "padding": null,
       "right": null,
       "top": null,
       "visibility": null,
       "width": "20px"
      }
     },
     "41259e5e73474d1191fb3d490b7fa3c3": {
      "model_module": "@jupyter-widgets/controls",
      "model_module_version": "1.5.0",
      "model_name": "ProgressStyleModel",
      "state": {
       "_model_module": "@jupyter-widgets/controls",
       "_model_module_version": "1.5.0",
       "_model_name": "ProgressStyleModel",
       "_view_count": null,
       "_view_module": "@jupyter-widgets/base",
       "_view_module_version": "1.2.0",
       "_view_name": "StyleView",
       "bar_color": null,
       "description_width": ""
      }
     },
     "4d9ea96a9b0a4f37b93fcdb0ea9299f0": {
      "model_module": "@jupyter-widgets/controls",
      "model_module_version": "1.5.0",
      "model_name": "FloatProgressModel",
      "state": {
       "_dom_classes": [],
       "_model_module": "@jupyter-widgets/controls",
       "_model_module_version": "1.5.0",
       "_model_name": "FloatProgressModel",
       "_view_count": null,
       "_view_module": "@jupyter-widgets/controls",
       "_view_module_version": "1.5.0",
       "_view_name": "ProgressView",
       "bar_style": "info",
       "description": "",
       "description_tooltip": null,
       "layout": "IPY_MODEL_6c556e74fa834cf199713535b860fb16",
       "max": 1.0,
       "min": 0.0,
       "orientation": "horizontal",
       "style": "IPY_MODEL_6cfbca743a3c4ad5b016af1aaa727339",
       "value": 0.0
      }
     },
     "532289d3b5a44a5598dc873ce472305f": {
      "model_module": "@jupyter-widgets/base",
      "model_module_version": "1.2.0",
      "model_name": "LayoutModel",
      "state": {
       "_model_module": "@jupyter-widgets/base",
       "_model_module_version": "1.2.0",
       "_model_name": "LayoutModel",
       "_view_count": null,
       "_view_module": "@jupyter-widgets/base",
       "_view_module_version": "1.2.0",
       "_view_name": "LayoutView",
       "align_content": null,
       "align_items": null,
       "align_self": null,
       "border": null,
       "bottom": null,
       "display": null,
       "flex": null,
       "flex_flow": null,
       "grid_area": null,
       "grid_auto_columns": null,
       "grid_auto_flow": null,
       "grid_auto_rows": null,
       "grid_column": null,
       "grid_gap": null,
       "grid_row": null,
       "grid_template_areas": null,
       "grid_template_columns": null,
       "grid_template_rows": null,
       "height": null,
       "justify_content": null,
       "justify_items": null,
       "left": null,
       "margin": null,
       "max_height": null,
       "max_width": null,
       "min_height": null,
       "min_width": null,
       "object_fit": null,
       "object_position": null,
       "order": null,
       "overflow": null,
       "overflow_x": null,
       "overflow_y": null,
       "padding": null,
       "right": null,
       "top": null,
       "visibility": null,
       "width": null
      }
     },
     "568e65fb1d794c8a80b6d1bee1974001": {
      "model_module": "@jupyter-widgets/controls",
      "model_module_version": "1.5.0",
      "model_name": "DescriptionStyleModel",
      "state": {
       "_model_module": "@jupyter-widgets/controls",
       "_model_module_version": "1.5.0",
       "_model_name": "DescriptionStyleModel",
       "_view_count": null,
       "_view_module": "@jupyter-widgets/base",
       "_view_module_version": "1.2.0",
       "_view_name": "StyleView",
       "description_width": ""
      }
     },
     "5d8f7dcc04f243ecb36de8494915ca7d": {
      "model_module": "@jupyter-widgets/controls",
      "model_module_version": "1.5.0",
      "model_name": "FloatProgressModel",
      "state": {
       "_dom_classes": [],
       "_model_module": "@jupyter-widgets/controls",
       "_model_module_version": "1.5.0",
       "_model_name": "FloatProgressModel",
       "_view_count": null,
       "_view_module": "@jupyter-widgets/controls",
       "_view_module_version": "1.5.0",
       "_view_name": "ProgressView",
       "bar_style": "info",
       "description": "",
       "description_tooltip": null,
       "layout": "IPY_MODEL_023b38092a354c68817fd1231ec0d220",
       "max": 1.0,
       "min": 0.0,
       "orientation": "horizontal",
       "style": "IPY_MODEL_216a9f35913348c795bf67bdd86ac6a5",
       "value": 1.0
      }
     },
     "60b580bcfb99459ebd266e806aa20c3c": {
      "model_module": "@jupyter-widgets/base",
      "model_module_version": "1.2.0",
      "model_name": "LayoutModel",
      "state": {
       "_model_module": "@jupyter-widgets/base",
       "_model_module_version": "1.2.0",
       "_model_name": "LayoutModel",
       "_view_count": null,
       "_view_module": "@jupyter-widgets/base",
       "_view_module_version": "1.2.0",
       "_view_name": "LayoutView",
       "align_content": null,
       "align_items": null,
       "align_self": null,
       "border": null,
       "bottom": null,
       "display": null,
       "flex": null,
       "flex_flow": null,
       "grid_area": null,
       "grid_auto_columns": null,
       "grid_auto_flow": null,
       "grid_auto_rows": null,
       "grid_column": null,
       "grid_gap": null,
       "grid_row": null,
       "grid_template_areas": null,
       "grid_template_columns": null,
       "grid_template_rows": null,
       "height": null,
       "justify_content": null,
       "justify_items": null,
       "left": null,
       "margin": null,
       "max_height": null,
       "max_width": null,
       "min_height": null,
       "min_width": null,
       "object_fit": null,
       "object_position": null,
       "order": null,
       "overflow": null,
       "overflow_x": null,
       "overflow_y": null,
       "padding": null,
       "right": null,
       "top": null,
       "visibility": null,
       "width": null
      }
     },
     "623ee0e7283f468ba10bb78f33f44c62": {
      "model_module": "@jupyter-widgets/controls",
      "model_module_version": "1.5.0",
      "model_name": "HTMLModel",
      "state": {
       "_dom_classes": [],
       "_model_module": "@jupyter-widgets/controls",
       "_model_module_version": "1.5.0",
       "_model_name": "HTMLModel",
       "_view_count": null,
       "_view_module": "@jupyter-widgets/controls",
       "_view_module_version": "1.5.0",
       "_view_name": "HTMLView",
       "description": "",
       "description_tooltip": null,
       "layout": "IPY_MODEL_60b580bcfb99459ebd266e806aa20c3c",
       "placeholder": "​",
       "style": "IPY_MODEL_8bbf34e67b2e4cceaceda803204c442d",
       "value": " 26427392/? [00:30&lt;00:00, 5892727.47it/s]"
      }
     },
     "633cf1febd2143829bd31f917debc55b": {
      "model_module": "@jupyter-widgets/controls",
      "model_module_version": "1.5.0",
      "model_name": "HBoxModel",
      "state": {
       "_dom_classes": [],
       "_model_module": "@jupyter-widgets/controls",
       "_model_module_version": "1.5.0",
       "_model_name": "HBoxModel",
       "_view_count": null,
       "_view_module": "@jupyter-widgets/controls",
       "_view_module_version": "1.5.0",
       "_view_name": "HBoxView",
       "box_style": "",
       "children": [
        "IPY_MODEL_ee559dbff7f5468297ce9cd6dc46294f",
        "IPY_MODEL_4d9ea96a9b0a4f37b93fcdb0ea9299f0",
        "IPY_MODEL_0d6dc7ab223743c4abeee3220628b221"
       ],
       "layout": "IPY_MODEL_9a73af0b81134af98f7d352a24ec0c42"
      }
     },
     "6c556e74fa834cf199713535b860fb16": {
      "model_module": "@jupyter-widgets/base",
      "model_module_version": "1.2.0",
      "model_name": "LayoutModel",
      "state": {
       "_model_module": "@jupyter-widgets/base",
       "_model_module_version": "1.2.0",
       "_model_name": "LayoutModel",
       "_view_count": null,
       "_view_module": "@jupyter-widgets/base",
       "_view_module_version": "1.2.0",
       "_view_name": "LayoutView",
       "align_content": null,
       "align_items": null,
       "align_self": null,
       "border": null,
       "bottom": null,
       "display": null,
       "flex": null,
       "flex_flow": null,
       "grid_area": null,
       "grid_auto_columns": null,
       "grid_auto_flow": null,
       "grid_auto_rows": null,
       "grid_column": null,
       "grid_gap": null,
       "grid_row": null,
       "grid_template_areas": null,
       "grid_template_columns": null,
       "grid_template_rows": null,
       "height": null,
       "justify_content": null,
       "justify_items": null,
       "left": null,
       "margin": null,
       "max_height": null,
       "max_width": null,
       "min_height": null,
       "min_width": null,
       "object_fit": null,
       "object_position": null,
       "order": null,
       "overflow": null,
       "overflow_x": null,
       "overflow_y": null,
       "padding": null,
       "right": null,
       "top": null,
       "visibility": null,
       "width": "20px"
      }
     },
     "6cfbca743a3c4ad5b016af1aaa727339": {
      "model_module": "@jupyter-widgets/controls",
      "model_module_version": "1.5.0",
      "model_name": "ProgressStyleModel",
      "state": {
       "_model_module": "@jupyter-widgets/controls",
       "_model_module_version": "1.5.0",
       "_model_name": "ProgressStyleModel",
       "_view_count": null,
       "_view_module": "@jupyter-widgets/base",
       "_view_module_version": "1.2.0",
       "_view_name": "StyleView",
       "bar_color": null,
       "description_width": ""
      }
     },
     "6e2f07209e3640b6ae7d52b8cb3aea78": {
      "model_module": "@jupyter-widgets/base",
      "model_module_version": "1.2.0",
      "model_name": "LayoutModel",
      "state": {
       "_model_module": "@jupyter-widgets/base",
       "_model_module_version": "1.2.0",
       "_model_name": "LayoutModel",
       "_view_count": null,
       "_view_module": "@jupyter-widgets/base",
       "_view_module_version": "1.2.0",
       "_view_name": "LayoutView",
       "align_content": null,
       "align_items": null,
       "align_self": null,
       "border": null,
       "bottom": null,
       "display": null,
       "flex": null,
       "flex_flow": null,
       "grid_area": null,
       "grid_auto_columns": null,
       "grid_auto_flow": null,
       "grid_auto_rows": null,
       "grid_column": null,
       "grid_gap": null,
       "grid_row": null,
       "grid_template_areas": null,
       "grid_template_columns": null,
       "grid_template_rows": null,
       "height": null,
       "justify_content": null,
       "justify_items": null,
       "left": null,
       "margin": null,
       "max_height": null,
       "max_width": null,
       "min_height": null,
       "min_width": null,
       "object_fit": null,
       "object_position": null,
       "order": null,
       "overflow": null,
       "overflow_x": null,
       "overflow_y": null,
       "padding": null,
       "right": null,
       "top": null,
       "visibility": null,
       "width": null
      }
     },
     "771639a5f6ff47c2af45e21488a41e60": {
      "model_module": "@jupyter-widgets/base",
      "model_module_version": "1.2.0",
      "model_name": "LayoutModel",
      "state": {
       "_model_module": "@jupyter-widgets/base",
       "_model_module_version": "1.2.0",
       "_model_name": "LayoutModel",
       "_view_count": null,
       "_view_module": "@jupyter-widgets/base",
       "_view_module_version": "1.2.0",
       "_view_name": "LayoutView",
       "align_content": null,
       "align_items": null,
       "align_self": null,
       "border": null,
       "bottom": null,
       "display": null,
       "flex": null,
       "flex_flow": null,
       "grid_area": null,
       "grid_auto_columns": null,
       "grid_auto_flow": null,
       "grid_auto_rows": null,
       "grid_column": null,
       "grid_gap": null,
       "grid_row": null,
       "grid_template_areas": null,
       "grid_template_columns": null,
       "grid_template_rows": null,
       "height": null,
       "justify_content": null,
       "justify_items": null,
       "left": null,
       "margin": null,
       "max_height": null,
       "max_width": null,
       "min_height": null,
       "min_width": null,
       "object_fit": null,
       "object_position": null,
       "order": null,
       "overflow": null,
       "overflow_x": null,
       "overflow_y": null,
       "padding": null,
       "right": null,
       "top": null,
       "visibility": null,
       "width": null
      }
     },
     "81965985680b472f8855d59f72ab7d95": {
      "model_module": "@jupyter-widgets/base",
      "model_module_version": "1.2.0",
      "model_name": "LayoutModel",
      "state": {
       "_model_module": "@jupyter-widgets/base",
       "_model_module_version": "1.2.0",
       "_model_name": "LayoutModel",
       "_view_count": null,
       "_view_module": "@jupyter-widgets/base",
       "_view_module_version": "1.2.0",
       "_view_name": "LayoutView",
       "align_content": null,
       "align_items": null,
       "align_self": null,
       "border": null,
       "bottom": null,
       "display": null,
       "flex": null,
       "flex_flow": null,
       "grid_area": null,
       "grid_auto_columns": null,
       "grid_auto_flow": null,
       "grid_auto_rows": null,
       "grid_column": null,
       "grid_gap": null,
       "grid_row": null,
       "grid_template_areas": null,
       "grid_template_columns": null,
       "grid_template_rows": null,
       "height": null,
       "justify_content": null,
       "justify_items": null,
       "left": null,
       "margin": null,
       "max_height": null,
       "max_width": null,
       "min_height": null,
       "min_width": null,
       "object_fit": null,
       "object_position": null,
       "order": null,
       "overflow": null,
       "overflow_x": null,
       "overflow_y": null,
       "padding": null,
       "right": null,
       "top": null,
       "visibility": null,
       "width": null
      }
     },
     "85ec2e0c0ba942f8a2c1e2acbe8eca0d": {
      "model_module": "@jupyter-widgets/controls",
      "model_module_version": "1.5.0",
      "model_name": "DescriptionStyleModel",
      "state": {
       "_model_module": "@jupyter-widgets/controls",
       "_model_module_version": "1.5.0",
       "_model_name": "DescriptionStyleModel",
       "_view_count": null,
       "_view_module": "@jupyter-widgets/base",
       "_view_module_version": "1.2.0",
       "_view_name": "StyleView",
       "description_width": ""
      }
     },
     "8a512643669542148e93d8ba1b5cd48a": {
      "model_module": "@jupyter-widgets/base",
      "model_module_version": "1.2.0",
      "model_name": "LayoutModel",
      "state": {
       "_model_module": "@jupyter-widgets/base",
       "_model_module_version": "1.2.0",
       "_model_name": "LayoutModel",
       "_view_count": null,
       "_view_module": "@jupyter-widgets/base",
       "_view_module_version": "1.2.0",
       "_view_name": "LayoutView",
       "align_content": null,
       "align_items": null,
       "align_self": null,
       "border": null,
       "bottom": null,
       "display": null,
       "flex": null,
       "flex_flow": null,
       "grid_area": null,
       "grid_auto_columns": null,
       "grid_auto_flow": null,
       "grid_auto_rows": null,
       "grid_column": null,
       "grid_gap": null,
       "grid_row": null,
       "grid_template_areas": null,
       "grid_template_columns": null,
       "grid_template_rows": null,
       "height": null,
       "justify_content": null,
       "justify_items": null,
       "left": null,
       "margin": null,
       "max_height": null,
       "max_width": null,
       "min_height": null,
       "min_width": null,
       "object_fit": null,
       "object_position": null,
       "order": null,
       "overflow": null,
       "overflow_x": null,
       "overflow_y": null,
       "padding": null,
       "right": null,
       "top": null,
       "visibility": null,
       "width": null
      }
     },
     "8a56fb469e50417bb6f68b3388cdb91a": {
      "model_module": "@jupyter-widgets/controls",
      "model_module_version": "1.5.0",
      "model_name": "HTMLModel",
      "state": {
       "_dom_classes": [],
       "_model_module": "@jupyter-widgets/controls",
       "_model_module_version": "1.5.0",
       "_model_name": "HTMLModel",
       "_view_count": null,
       "_view_module": "@jupyter-widgets/controls",
       "_view_module_version": "1.5.0",
       "_view_name": "HTMLView",
       "description": "",
       "description_tooltip": null,
       "layout": "IPY_MODEL_bfbddaa318dd4361a9e69eaade0db19e",
       "placeholder": "​",
       "style": "IPY_MODEL_062f13d053fc4045aa1af9d06c59c2cf",
       "value": " 32768/? [00:13&lt;00:00, 63371.26it/s]"
      }
     },
     "8bbf34e67b2e4cceaceda803204c442d": {
      "model_module": "@jupyter-widgets/controls",
      "model_module_version": "1.5.0",
      "model_name": "DescriptionStyleModel",
      "state": {
       "_model_module": "@jupyter-widgets/controls",
       "_model_module_version": "1.5.0",
       "_model_name": "DescriptionStyleModel",
       "_view_count": null,
       "_view_module": "@jupyter-widgets/base",
       "_view_module_version": "1.2.0",
       "_view_name": "StyleView",
       "description_width": ""
      }
     },
     "9385df8c93cc4a039d1588f2e126153c": {
      "model_module": "@jupyter-widgets/controls",
      "model_module_version": "1.5.0",
      "model_name": "FloatProgressModel",
      "state": {
       "_dom_classes": [],
       "_model_module": "@jupyter-widgets/controls",
       "_model_module_version": "1.5.0",
       "_model_name": "FloatProgressModel",
       "_view_count": null,
       "_view_module": "@jupyter-widgets/controls",
       "_view_module_version": "1.5.0",
       "_view_name": "ProgressView",
       "bar_style": "info",
       "description": "",
       "description_tooltip": null,
       "layout": "IPY_MODEL_f1dbd274a072413fb6693077651a0f70",
       "max": 1.0,
       "min": 0.0,
       "orientation": "horizontal",
       "style": "IPY_MODEL_fd0f14f6dc5644828034d73d8230403c",
       "value": 1.0
      }
     },
     "9a73af0b81134af98f7d352a24ec0c42": {
      "model_module": "@jupyter-widgets/base",
      "model_module_version": "1.2.0",
      "model_name": "LayoutModel",
      "state": {
       "_model_module": "@jupyter-widgets/base",
       "_model_module_version": "1.2.0",
       "_model_name": "LayoutModel",
       "_view_count": null,
       "_view_module": "@jupyter-widgets/base",
       "_view_module_version": "1.2.0",
       "_view_name": "LayoutView",
       "align_content": null,
       "align_items": null,
       "align_self": null,
       "border": null,
       "bottom": null,
       "display": null,
       "flex": null,
       "flex_flow": null,
       "grid_area": null,
       "grid_auto_columns": null,
       "grid_auto_flow": null,
       "grid_auto_rows": null,
       "grid_column": null,
       "grid_gap": null,
       "grid_row": null,
       "grid_template_areas": null,
       "grid_template_columns": null,
       "grid_template_rows": null,
       "height": null,
       "justify_content": null,
       "justify_items": null,
       "left": null,
       "margin": null,
       "max_height": null,
       "max_width": null,
       "min_height": null,
       "min_width": null,
       "object_fit": null,
       "object_position": null,
       "order": null,
       "overflow": null,
       "overflow_x": null,
       "overflow_y": null,
       "padding": null,
       "right": null,
       "top": null,
       "visibility": null,
       "width": null
      }
     },
     "9f28bd1ec1584383baf795bbb4e45f70": {
      "model_module": "@jupyter-widgets/base",
      "model_module_version": "1.2.0",
      "model_name": "LayoutModel",
      "state": {
       "_model_module": "@jupyter-widgets/base",
       "_model_module_version": "1.2.0",
       "_model_name": "LayoutModel",
       "_view_count": null,
       "_view_module": "@jupyter-widgets/base",
       "_view_module_version": "1.2.0",
       "_view_name": "LayoutView",
       "align_content": null,
       "align_items": null,
       "align_self": null,
       "border": null,
       "bottom": null,
       "display": null,
       "flex": null,
       "flex_flow": null,
       "grid_area": null,
       "grid_auto_columns": null,
       "grid_auto_flow": null,
       "grid_auto_rows": null,
       "grid_column": null,
       "grid_gap": null,
       "grid_row": null,
       "grid_template_areas": null,
       "grid_template_columns": null,
       "grid_template_rows": null,
       "height": null,
       "justify_content": null,
       "justify_items": null,
       "left": null,
       "margin": null,
       "max_height": null,
       "max_width": null,
       "min_height": null,
       "min_width": null,
       "object_fit": null,
       "object_position": null,
       "order": null,
       "overflow": null,
       "overflow_x": null,
       "overflow_y": null,
       "padding": null,
       "right": null,
       "top": null,
       "visibility": null,
       "width": null
      }
     },
     "ad645a893df24668bbe01789f10cd8e9": {
      "model_module": "@jupyter-widgets/controls",
      "model_module_version": "1.5.0",
      "model_name": "DescriptionStyleModel",
      "state": {
       "_model_module": "@jupyter-widgets/controls",
       "_model_module_version": "1.5.0",
       "_model_name": "DescriptionStyleModel",
       "_view_count": null,
       "_view_module": "@jupyter-widgets/base",
       "_view_module_version": "1.2.0",
       "_view_name": "StyleView",
       "description_width": ""
      }
     },
     "bd3549010ee94ea197d832170513a0ac": {
      "model_module": "@jupyter-widgets/controls",
      "model_module_version": "1.5.0",
      "model_name": "DescriptionStyleModel",
      "state": {
       "_model_module": "@jupyter-widgets/controls",
       "_model_module_version": "1.5.0",
       "_model_name": "DescriptionStyleModel",
       "_view_count": null,
       "_view_module": "@jupyter-widgets/base",
       "_view_module_version": "1.2.0",
       "_view_name": "StyleView",
       "description_width": ""
      }
     },
     "bfbddaa318dd4361a9e69eaade0db19e": {
      "model_module": "@jupyter-widgets/base",
      "model_module_version": "1.2.0",
      "model_name": "LayoutModel",
      "state": {
       "_model_module": "@jupyter-widgets/base",
       "_model_module_version": "1.2.0",
       "_model_name": "LayoutModel",
       "_view_count": null,
       "_view_module": "@jupyter-widgets/base",
       "_view_module_version": "1.2.0",
       "_view_name": "LayoutView",
       "align_content": null,
       "align_items": null,
       "align_self": null,
       "border": null,
       "bottom": null,
       "display": null,
       "flex": null,
       "flex_flow": null,
       "grid_area": null,
       "grid_auto_columns": null,
       "grid_auto_flow": null,
       "grid_auto_rows": null,
       "grid_column": null,
       "grid_gap": null,
       "grid_row": null,
       "grid_template_areas": null,
       "grid_template_columns": null,
       "grid_template_rows": null,
       "height": null,
       "justify_content": null,
       "justify_items": null,
       "left": null,
       "margin": null,
       "max_height": null,
       "max_width": null,
       "min_height": null,
       "min_width": null,
       "object_fit": null,
       "object_position": null,
       "order": null,
       "overflow": null,
       "overflow_x": null,
       "overflow_y": null,
       "padding": null,
       "right": null,
       "top": null,
       "visibility": null,
       "width": null
      }
     },
     "c2b492a5610145bbb2264d64f1ec44b7": {
      "model_module": "@jupyter-widgets/controls",
      "model_module_version": "1.5.0",
      "model_name": "DescriptionStyleModel",
      "state": {
       "_model_module": "@jupyter-widgets/controls",
       "_model_module_version": "1.5.0",
       "_model_name": "DescriptionStyleModel",
       "_view_count": null,
       "_view_module": "@jupyter-widgets/base",
       "_view_module_version": "1.2.0",
       "_view_name": "StyleView",
       "description_width": ""
      }
     },
     "ca7d377c986344c4a7d3a3bb89a8575c": {
      "model_module": "@jupyter-widgets/controls",
      "model_module_version": "1.5.0",
      "model_name": "HTMLModel",
      "state": {
       "_dom_classes": [],
       "_model_module": "@jupyter-widgets/controls",
       "_model_module_version": "1.5.0",
       "_model_name": "HTMLModel",
       "_view_count": null,
       "_view_module": "@jupyter-widgets/controls",
       "_view_module_version": "1.5.0",
       "_view_name": "HTMLView",
       "description": "",
       "description_tooltip": null,
       "layout": "IPY_MODEL_81965985680b472f8855d59f72ab7d95",
       "placeholder": "​",
       "style": "IPY_MODEL_ad645a893df24668bbe01789f10cd8e9",
       "value": ""
      }
     },
     "cb30fdd68afd490d9cf9407606345981": {
      "model_module": "@jupyter-widgets/base",
      "model_module_version": "1.2.0",
      "model_name": "LayoutModel",
      "state": {
       "_model_module": "@jupyter-widgets/base",
       "_model_module_version": "1.2.0",
       "_model_name": "LayoutModel",
       "_view_count": null,
       "_view_module": "@jupyter-widgets/base",
       "_view_module_version": "1.2.0",
       "_view_name": "LayoutView",
       "align_content": null,
       "align_items": null,
       "align_self": null,
       "border": null,
       "bottom": null,
       "display": null,
       "flex": null,
       "flex_flow": null,
       "grid_area": null,
       "grid_auto_columns": null,
       "grid_auto_flow": null,
       "grid_auto_rows": null,
       "grid_column": null,
       "grid_gap": null,
       "grid_row": null,
       "grid_template_areas": null,
       "grid_template_columns": null,
       "grid_template_rows": null,
       "height": null,
       "justify_content": null,
       "justify_items": null,
       "left": null,
       "margin": null,
       "max_height": null,
       "max_width": null,
       "min_height": null,
       "min_width": null,
       "object_fit": null,
       "object_position": null,
       "order": null,
       "overflow": null,
       "overflow_x": null,
       "overflow_y": null,
       "padding": null,
       "right": null,
       "top": null,
       "visibility": null,
       "width": null
      }
     },
     "d11a2af17608491e802b5e7cac40f752": {
      "model_module": "@jupyter-widgets/controls",
      "model_module_version": "1.5.0",
      "model_name": "HBoxModel",
      "state": {
       "_dom_classes": [],
       "_model_module": "@jupyter-widgets/controls",
       "_model_module_version": "1.5.0",
       "_model_name": "HBoxModel",
       "_view_count": null,
       "_view_module": "@jupyter-widgets/controls",
       "_view_module_version": "1.5.0",
       "_view_name": "HBoxView",
       "box_style": "",
       "children": [
        "IPY_MODEL_dd24bbeb2b6c4899880a170a5119325c",
        "IPY_MODEL_9385df8c93cc4a039d1588f2e126153c",
        "IPY_MODEL_8a56fb469e50417bb6f68b3388cdb91a"
       ],
       "layout": "IPY_MODEL_771639a5f6ff47c2af45e21488a41e60"
      }
     },
     "dd24bbeb2b6c4899880a170a5119325c": {
      "model_module": "@jupyter-widgets/controls",
      "model_module_version": "1.5.0",
      "model_name": "HTMLModel",
      "state": {
       "_dom_classes": [],
       "_model_module": "@jupyter-widgets/controls",
       "_model_module_version": "1.5.0",
       "_model_name": "HTMLModel",
       "_view_count": null,
       "_view_module": "@jupyter-widgets/controls",
       "_view_module_version": "1.5.0",
       "_view_name": "HTMLView",
       "description": "",
       "description_tooltip": null,
       "layout": "IPY_MODEL_1aace7d5fb1c46f0839f2bf4fc7bc423",
       "placeholder": "​",
       "style": "IPY_MODEL_85ec2e0c0ba942f8a2c1e2acbe8eca0d",
       "value": ""
      }
     },
     "ea26db050f884dfe903fc3ad460e2f3b": {
      "model_module": "@jupyter-widgets/base",
      "model_module_version": "1.2.0",
      "model_name": "LayoutModel",
      "state": {
       "_model_module": "@jupyter-widgets/base",
       "_model_module_version": "1.2.0",
       "_model_name": "LayoutModel",
       "_view_count": null,
       "_view_module": "@jupyter-widgets/base",
       "_view_module_version": "1.2.0",
       "_view_name": "LayoutView",
       "align_content": null,
       "align_items": null,
       "align_self": null,
       "border": null,
       "bottom": null,
       "display": null,
       "flex": null,
       "flex_flow": null,
       "grid_area": null,
       "grid_auto_columns": null,
       "grid_auto_flow": null,
       "grid_auto_rows": null,
       "grid_column": null,
       "grid_gap": null,
       "grid_row": null,
       "grid_template_areas": null,
       "grid_template_columns": null,
       "grid_template_rows": null,
       "height": null,
       "justify_content": null,
       "justify_items": null,
       "left": null,
       "margin": null,
       "max_height": null,
       "max_width": null,
       "min_height": null,
       "min_width": null,
       "object_fit": null,
       "object_position": null,
       "order": null,
       "overflow": null,
       "overflow_x": null,
       "overflow_y": null,
       "padding": null,
       "right": null,
       "top": null,
       "visibility": null,
       "width": null
      }
     },
     "eb660daa00c54861bee7d17dcdc0bca6": {
      "model_module": "@jupyter-widgets/controls",
      "model_module_version": "1.5.0",
      "model_name": "HBoxModel",
      "state": {
       "_dom_classes": [],
       "_model_module": "@jupyter-widgets/controls",
       "_model_module_version": "1.5.0",
       "_model_name": "HBoxModel",
       "_view_count": null,
       "_view_module": "@jupyter-widgets/controls",
       "_view_module_version": "1.5.0",
       "_view_name": "HBoxView",
       "box_style": "",
       "children": [
        "IPY_MODEL_ca7d377c986344c4a7d3a3bb89a8575c",
        "IPY_MODEL_5d8f7dcc04f243ecb36de8494915ca7d",
        "IPY_MODEL_fe43f56115c0484391dfc274236aaf59"
       ],
       "layout": "IPY_MODEL_9f28bd1ec1584383baf795bbb4e45f70"
      }
     },
     "ee559dbff7f5468297ce9cd6dc46294f": {
      "model_module": "@jupyter-widgets/controls",
      "model_module_version": "1.5.0",
      "model_name": "HTMLModel",
      "state": {
       "_dom_classes": [],
       "_model_module": "@jupyter-widgets/controls",
       "_model_module_version": "1.5.0",
       "_model_name": "HTMLModel",
       "_view_count": null,
       "_view_module": "@jupyter-widgets/controls",
       "_view_module_version": "1.5.0",
       "_view_name": "HTMLView",
       "description": "",
       "description_tooltip": null,
       "layout": "IPY_MODEL_cb30fdd68afd490d9cf9407606345981",
       "placeholder": "​",
       "style": "IPY_MODEL_c2b492a5610145bbb2264d64f1ec44b7",
       "value": "  0%"
      }
     },
     "f1dbd274a072413fb6693077651a0f70": {
      "model_module": "@jupyter-widgets/base",
      "model_module_version": "1.2.0",
      "model_name": "LayoutModel",
      "state": {
       "_model_module": "@jupyter-widgets/base",
       "_model_module_version": "1.2.0",
       "_model_name": "LayoutModel",
       "_view_count": null,
       "_view_module": "@jupyter-widgets/base",
       "_view_module_version": "1.2.0",
       "_view_name": "LayoutView",
       "align_content": null,
       "align_items": null,
       "align_self": null,
       "border": null,
       "bottom": null,
       "display": null,
       "flex": null,
       "flex_flow": null,
       "grid_area": null,
       "grid_auto_columns": null,
       "grid_auto_flow": null,
       "grid_auto_rows": null,
       "grid_column": null,
       "grid_gap": null,
       "grid_row": null,
       "grid_template_areas": null,
       "grid_template_columns": null,
       "grid_template_rows": null,
       "height": null,
       "justify_content": null,
       "justify_items": null,
       "left": null,
       "margin": null,
       "max_height": null,
       "max_width": null,
       "min_height": null,
       "min_width": null,
       "object_fit": null,
       "object_position": null,
       "order": null,
       "overflow": null,
       "overflow_x": null,
       "overflow_y": null,
       "padding": null,
       "right": null,
       "top": null,
       "visibility": null,
       "width": "20px"
      }
     },
     "f31648334b074e75ac1d640d18eff463": {
      "model_module": "@jupyter-widgets/controls",
      "model_module_version": "1.5.0",
      "model_name": "FloatProgressModel",
      "state": {
       "_dom_classes": [],
       "_model_module": "@jupyter-widgets/controls",
       "_model_module_version": "1.5.0",
       "_model_name": "FloatProgressModel",
       "_view_count": null,
       "_view_module": "@jupyter-widgets/controls",
       "_view_module_version": "1.5.0",
       "_view_name": "ProgressView",
       "bar_style": "info",
       "description": "",
       "description_tooltip": null,
       "layout": "IPY_MODEL_2e5bdb329ddf4df4af2eecdcbc09ecd8",
       "max": 1.0,
       "min": 0.0,
       "orientation": "horizontal",
       "style": "IPY_MODEL_41259e5e73474d1191fb3d490b7fa3c3",
       "value": 1.0
      }
     },
     "f5f1c05aa70f48bc88b01eb2767cd778": {
      "model_module": "@jupyter-widgets/controls",
      "model_module_version": "1.5.0",
      "model_name": "DescriptionStyleModel",
      "state": {
       "_model_module": "@jupyter-widgets/controls",
       "_model_module_version": "1.5.0",
       "_model_name": "DescriptionStyleModel",
       "_view_count": null,
       "_view_module": "@jupyter-widgets/base",
       "_view_module_version": "1.2.0",
       "_view_name": "StyleView",
       "description_width": ""
      }
     },
     "f6d814c0544a44c1aedf88c15ecc6d15": {
      "model_module": "@jupyter-widgets/controls",
      "model_module_version": "1.5.0",
      "model_name": "HBoxModel",
      "state": {
       "_dom_classes": [],
       "_model_module": "@jupyter-widgets/controls",
       "_model_module_version": "1.5.0",
       "_model_name": "HBoxModel",
       "_view_count": null,
       "_view_module": "@jupyter-widgets/controls",
       "_view_module_version": "1.5.0",
       "_view_name": "HBoxView",
       "box_style": "",
       "children": [
        "IPY_MODEL_04ac761a42a544578be5f3149b956349",
        "IPY_MODEL_f31648334b074e75ac1d640d18eff463",
        "IPY_MODEL_623ee0e7283f468ba10bb78f33f44c62"
       ],
       "layout": "IPY_MODEL_ea26db050f884dfe903fc3ad460e2f3b"
      }
     },
     "fd0f14f6dc5644828034d73d8230403c": {
      "model_module": "@jupyter-widgets/controls",
      "model_module_version": "1.5.0",
      "model_name": "ProgressStyleModel",
      "state": {
       "_model_module": "@jupyter-widgets/controls",
       "_model_module_version": "1.5.0",
       "_model_name": "ProgressStyleModel",
       "_view_count": null,
       "_view_module": "@jupyter-widgets/base",
       "_view_module_version": "1.2.0",
       "_view_name": "StyleView",
       "bar_color": null,
       "description_width": ""
      }
     },
     "fe43f56115c0484391dfc274236aaf59": {
      "model_module": "@jupyter-widgets/controls",
      "model_module_version": "1.5.0",
      "model_name": "HTMLModel",
      "state": {
       "_dom_classes": [],
       "_model_module": "@jupyter-widgets/controls",
       "_model_module_version": "1.5.0",
       "_model_name": "HTMLModel",
       "_view_count": null,
       "_view_module": "@jupyter-widgets/controls",
       "_view_module_version": "1.5.0",
       "_view_name": "HTMLView",
       "description": "",
       "description_tooltip": null,
       "layout": "IPY_MODEL_6e2f07209e3640b6ae7d52b8cb3aea78",
       "placeholder": "​",
       "style": "IPY_MODEL_568e65fb1d794c8a80b6d1bee1974001",
       "value": " 4423680/? [00:12&lt;00:00, 3317687.18it/s]"
      }
     }
    },
    "version_major": 2,
    "version_minor": 0
   }
  }
 },
 "nbformat": 4,
 "nbformat_minor": 5
}
